{
 "cells": [
  {
   "cell_type": "code",
   "execution_count": 1,
   "metadata": {},
   "outputs": [
    {
     "data": {
      "image/png": "[encoded data removed]",
      "text/plain": [
       "<Figure size 432x288 with 1 Axes>"
      ]
     },
     "metadata": {},
     "output_type": "display_data"
    }
   ],
   "source": [
    "# Cubic Bezier curve\n",
    "%matplotlib inline\n",
    "import matplotlib.pyplot as plt\n",
    "import numpy as np\n",
    "\n",
    "#plt.ylim([0,10])\n",
    "#plt.xlim([-5,5])\n",
    "plt.gca().set_aspect('equal', adjustable='box')\n",
    "\n",
    "def myplot(p1,c1,p2,c2,color):\n",
    "    \n",
    "    x=[]\n",
    "    y=[]\n",
    "    for t in range(0,51):\n",
    "        t=t/50\n",
    "        bx=(1-t)**3*p1[0]+3*t*(1-t)**2*c1[0]+3*t**2*(1-t)*c2[0]+t**3*p2[0]\n",
    "        by=(1-t)**3*p1[1]+3*t*(1-t)**2*c1[1]+3*t**2*(1-t)*c2[1]+t**3*p2[1]\n",
    "        x.append(bx)\n",
    "        y.append(by)\n",
    "\n",
    "    plt.plot(x, y,c=color)\n",
    "\n",
    "    plt.scatter([p1[0],p2[0]], [p1[1],p2[1]],c=color)\n",
    "    plt.scatter([c1[0],c2[0]], [c1[1],c2[1]],c=color)\n",
    "    \n",
    "    plt.plot([p1[0],c1[0]], [p1[1],c1[1]],':',c=color)\n",
    "    plt.plot([p2[0],c2[0]], [p2[1],c2[1]],':',c=color)\n",
    "\n",
    "# p: point,c: control\n",
    "# first line\n",
    "p1=(0,0)\n",
    "c1=(-4,2)\n",
    "p2=(-5,5)\n",
    "c2=(-5,3.5)\n",
    "\n",
    "myplot(p1,c1,p2,c2,\"red\")\n",
    "\n",
    "# calc oposit control\n",
    "c2b=(p2[0]-(c2[0]-p2[0]),p2[1]-(c2[1]-p2[1]))\n",
    "\n",
    "# second line from first line end point\n",
    "p1=p2\n",
    "c1=c2b\n",
    "p2=(-2.5,8)\n",
    "c2=(-4.3,8)\n",
    "\n",
    "myplot(p1,c1,p2,c2,\"red\")\n",
    "\n",
    "c2b=(p2[0]-(c2[0]-p2[0]),p2[1]-(c2[1]-p2[1]))\n",
    "p1=p2\n",
    "c1=c2b\n",
    "p2=(0,6.5)\n",
    "c2=(-0.2,6.7)\n",
    "\n",
    "myplot(p1,c1,p2,c2,\"red\")\n",
    "\n",
    "c2b=(p2[0]+(p2[0]-c2[0]),c2[1])\n",
    "p1=p2\n",
    "c1=c2b\n",
    "p2=(2.5,8)\n",
    "c2=(0.7,8)\n",
    "\n",
    "myplot(p1,c1,p2,c2,\"red\")\n",
    "\n",
    "c2b=(p2[0]-(c2[0]-p2[0]),p2[1]-(c2[1]-p2[1]))\n",
    "p1=p2\n",
    "c1=c2b\n",
    "p2=(5,5)\n",
    "c2=(5,6.5)\n",
    "\n",
    "myplot(p1,c1,p2,c2,\"red\")\n",
    "\n",
    "c2b=(p2[0]-(c2[0]-p2[0]),p2[1]-(c2[1]-p2[1]))\n",
    "p1=p2\n",
    "c1=c2b\n",
    "p2=(0,0)\n",
    "c2=(4,2)\n",
    "\n",
    "myplot(p1,c1,p2,c2,\"red\")"
   ]
  },
  {
   "cell_type": "code",
   "execution_count": null,
   "metadata": {},
   "outputs": [],
   "source": []
  }
 ],
 "metadata": {
  "kernelspec": {
   "display_name": "Python 3",
   "language": "python",
   "name": "python3"
  },
  "language_info": {
   "codemirror_mode": {
    "name": "ipython",
    "version": 3
   },
   "file_extension": ".py",
   "mimetype": "text/x-python",
   "name": "python",
   "nbconvert_exporter": "python",
   "pygments_lexer": "ipython3",
   "version": "3.6.5"
  }
 },
 "nbformat": 4,
 "nbformat_minor": 2
}
